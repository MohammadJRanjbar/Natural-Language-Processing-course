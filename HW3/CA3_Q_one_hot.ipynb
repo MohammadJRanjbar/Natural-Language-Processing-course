{
  "nbformat": 4,
  "nbformat_minor": 0,
  "metadata": {
    "colab": {
      "provenance": [],
      "gpuType": "T4"
    },
    "kernelspec": {
      "name": "python3",
      "display_name": "Python 3"
    },
    "language_info": {
      "name": "python"
    },
    "accelerator": "GPU",
    "gpuClass": "standard",
    "widgets": {
      "application/vnd.jupyter.widget-state+json": {
        "721cebdf33984b1c9c7f7a88bfab6fd5": {
          "model_module": "@jupyter-widgets/controls",
          "model_name": "HBoxModel",
          "model_module_version": "1.5.0",
          "state": {
            "_dom_classes": [],
            "_model_module": "@jupyter-widgets/controls",
            "_model_module_version": "1.5.0",
            "_model_name": "HBoxModel",
            "_view_count": null,
            "_view_module": "@jupyter-widgets/controls",
            "_view_module_version": "1.5.0",
            "_view_name": "HBoxView",
            "box_style": "",
            "children": [
              "IPY_MODEL_f71d18fc26c045b1bf1cd901fcb54847",
              "IPY_MODEL_96dd826f4417410db3e7323ac509e48a",
              "IPY_MODEL_25ac2c0a1e7947cd8da45cd196c8685f"
            ],
            "layout": "IPY_MODEL_c8adcc3bf56c4a3babdec0c004286f97"
          }
        },
        "f71d18fc26c045b1bf1cd901fcb54847": {
          "model_module": "@jupyter-widgets/controls",
          "model_name": "HTMLModel",
          "model_module_version": "1.5.0",
          "state": {
            "_dom_classes": [],
            "_model_module": "@jupyter-widgets/controls",
            "_model_module_version": "1.5.0",
            "_model_name": "HTMLModel",
            "_view_count": null,
            "_view_module": "@jupyter-widgets/controls",
            "_view_module_version": "1.5.0",
            "_view_name": "HTMLView",
            "description": "",
            "description_tooltip": null,
            "layout": "IPY_MODEL_a08fc6860ea54fda81819d24d683c5fe",
            "placeholder": "​",
            "style": "IPY_MODEL_3a370b60fc9746ad90b0a38826781d2a",
            "value": "100%"
          }
        },
        "96dd826f4417410db3e7323ac509e48a": {
          "model_module": "@jupyter-widgets/controls",
          "model_name": "FloatProgressModel",
          "model_module_version": "1.5.0",
          "state": {
            "_dom_classes": [],
            "_model_module": "@jupyter-widgets/controls",
            "_model_module_version": "1.5.0",
            "_model_name": "FloatProgressModel",
            "_view_count": null,
            "_view_module": "@jupyter-widgets/controls",
            "_view_module_version": "1.5.0",
            "_view_name": "ProgressView",
            "bar_style": "success",
            "description": "",
            "description_tooltip": null,
            "layout": "IPY_MODEL_e874f8c359de4b6db9c778fcda2ca9d4",
            "max": 1280000,
            "min": 0,
            "orientation": "horizontal",
            "style": "IPY_MODEL_9fd3c18d2ccc4e2aa2ac8be6bad876ee",
            "value": 1280000
          }
        },
        "25ac2c0a1e7947cd8da45cd196c8685f": {
          "model_module": "@jupyter-widgets/controls",
          "model_name": "HTMLModel",
          "model_module_version": "1.5.0",
          "state": {
            "_dom_classes": [],
            "_model_module": "@jupyter-widgets/controls",
            "_model_module_version": "1.5.0",
            "_model_name": "HTMLModel",
            "_view_count": null,
            "_view_module": "@jupyter-widgets/controls",
            "_view_module_version": "1.5.0",
            "_view_name": "HTMLView",
            "description": "",
            "description_tooltip": null,
            "layout": "IPY_MODEL_044a637c49e640f69a16ec2b5e911863",
            "placeholder": "​",
            "style": "IPY_MODEL_6ddef8e95cd248dea9580b54d40eac13",
            "value": " 1280000/1280000 [00:08&lt;00:00, 218248.70it/s]"
          }
        },
        "c8adcc3bf56c4a3babdec0c004286f97": {
          "model_module": "@jupyter-widgets/base",
          "model_name": "LayoutModel",
          "model_module_version": "1.2.0",
          "state": {
            "_model_module": "@jupyter-widgets/base",
            "_model_module_version": "1.2.0",
            "_model_name": "LayoutModel",
            "_view_count": null,
            "_view_module": "@jupyter-widgets/base",
            "_view_module_version": "1.2.0",
            "_view_name": "LayoutView",
            "align_content": null,
            "align_items": null,
            "align_self": null,
            "border": null,
            "bottom": null,
            "display": null,
            "flex": null,
            "flex_flow": null,
            "grid_area": null,
            "grid_auto_columns": null,
            "grid_auto_flow": null,
            "grid_auto_rows": null,
            "grid_column": null,
            "grid_gap": null,
            "grid_row": null,
            "grid_template_areas": null,
            "grid_template_columns": null,
            "grid_template_rows": null,
            "height": null,
            "justify_content": null,
            "justify_items": null,
            "left": null,
            "margin": null,
            "max_height": null,
            "max_width": null,
            "min_height": null,
            "min_width": null,
            "object_fit": null,
            "object_position": null,
            "order": null,
            "overflow": null,
            "overflow_x": null,
            "overflow_y": null,
            "padding": null,
            "right": null,
            "top": null,
            "visibility": null,
            "width": null
          }
        },
        "a08fc6860ea54fda81819d24d683c5fe": {
          "model_module": "@jupyter-widgets/base",
          "model_name": "LayoutModel",
          "model_module_version": "1.2.0",
          "state": {
            "_model_module": "@jupyter-widgets/base",
            "_model_module_version": "1.2.0",
            "_model_name": "LayoutModel",
            "_view_count": null,
            "_view_module": "@jupyter-widgets/base",
            "_view_module_version": "1.2.0",
            "_view_name": "LayoutView",
            "align_content": null,
            "align_items": null,
            "align_self": null,
            "border": null,
            "bottom": null,
            "display": null,
            "flex": null,
            "flex_flow": null,
            "grid_area": null,
            "grid_auto_columns": null,
            "grid_auto_flow": null,
            "grid_auto_rows": null,
            "grid_column": null,
            "grid_gap": null,
            "grid_row": null,
            "grid_template_areas": null,
            "grid_template_columns": null,
            "grid_template_rows": null,
            "height": null,
            "justify_content": null,
            "justify_items": null,
            "left": null,
            "margin": null,
            "max_height": null,
            "max_width": null,
            "min_height": null,
            "min_width": null,
            "object_fit": null,
            "object_position": null,
            "order": null,
            "overflow": null,
            "overflow_x": null,
            "overflow_y": null,
            "padding": null,
            "right": null,
            "top": null,
            "visibility": null,
            "width": null
          }
        },
        "3a370b60fc9746ad90b0a38826781d2a": {
          "model_module": "@jupyter-widgets/controls",
          "model_name": "DescriptionStyleModel",
          "model_module_version": "1.5.0",
          "state": {
            "_model_module": "@jupyter-widgets/controls",
            "_model_module_version": "1.5.0",
            "_model_name": "DescriptionStyleModel",
            "_view_count": null,
            "_view_module": "@jupyter-widgets/base",
            "_view_module_version": "1.2.0",
            "_view_name": "StyleView",
            "description_width": ""
          }
        },
        "e874f8c359de4b6db9c778fcda2ca9d4": {
          "model_module": "@jupyter-widgets/base",
          "model_name": "LayoutModel",
          "model_module_version": "1.2.0",
          "state": {
            "_model_module": "@jupyter-widgets/base",
            "_model_module_version": "1.2.0",
            "_model_name": "LayoutModel",
            "_view_count": null,
            "_view_module": "@jupyter-widgets/base",
            "_view_module_version": "1.2.0",
            "_view_name": "LayoutView",
            "align_content": null,
            "align_items": null,
            "align_self": null,
            "border": null,
            "bottom": null,
            "display": null,
            "flex": null,
            "flex_flow": null,
            "grid_area": null,
            "grid_auto_columns": null,
            "grid_auto_flow": null,
            "grid_auto_rows": null,
            "grid_column": null,
            "grid_gap": null,
            "grid_row": null,
            "grid_template_areas": null,
            "grid_template_columns": null,
            "grid_template_rows": null,
            "height": null,
            "justify_content": null,
            "justify_items": null,
            "left": null,
            "margin": null,
            "max_height": null,
            "max_width": null,
            "min_height": null,
            "min_width": null,
            "object_fit": null,
            "object_position": null,
            "order": null,
            "overflow": null,
            "overflow_x": null,
            "overflow_y": null,
            "padding": null,
            "right": null,
            "top": null,
            "visibility": null,
            "width": null
          }
        },
        "9fd3c18d2ccc4e2aa2ac8be6bad876ee": {
          "model_module": "@jupyter-widgets/controls",
          "model_name": "ProgressStyleModel",
          "model_module_version": "1.5.0",
          "state": {
            "_model_module": "@jupyter-widgets/controls",
            "_model_module_version": "1.5.0",
            "_model_name": "ProgressStyleModel",
            "_view_count": null,
            "_view_module": "@jupyter-widgets/base",
            "_view_module_version": "1.2.0",
            "_view_name": "StyleView",
            "bar_color": null,
            "description_width": ""
          }
        },
        "044a637c49e640f69a16ec2b5e911863": {
          "model_module": "@jupyter-widgets/base",
          "model_name": "LayoutModel",
          "model_module_version": "1.2.0",
          "state": {
            "_model_module": "@jupyter-widgets/base",
            "_model_module_version": "1.2.0",
            "_model_name": "LayoutModel",
            "_view_count": null,
            "_view_module": "@jupyter-widgets/base",
            "_view_module_version": "1.2.0",
            "_view_name": "LayoutView",
            "align_content": null,
            "align_items": null,
            "align_self": null,
            "border": null,
            "bottom": null,
            "display": null,
            "flex": null,
            "flex_flow": null,
            "grid_area": null,
            "grid_auto_columns": null,
            "grid_auto_flow": null,
            "grid_auto_rows": null,
            "grid_column": null,
            "grid_gap": null,
            "grid_row": null,
            "grid_template_areas": null,
            "grid_template_columns": null,
            "grid_template_rows": null,
            "height": null,
            "justify_content": null,
            "justify_items": null,
            "left": null,
            "margin": null,
            "max_height": null,
            "max_width": null,
            "min_height": null,
            "min_width": null,
            "object_fit": null,
            "object_position": null,
            "order": null,
            "overflow": null,
            "overflow_x": null,
            "overflow_y": null,
            "padding": null,
            "right": null,
            "top": null,
            "visibility": null,
            "width": null
          }
        },
        "6ddef8e95cd248dea9580b54d40eac13": {
          "model_module": "@jupyter-widgets/controls",
          "model_name": "DescriptionStyleModel",
          "model_module_version": "1.5.0",
          "state": {
            "_model_module": "@jupyter-widgets/controls",
            "_model_module_version": "1.5.0",
            "_model_name": "DescriptionStyleModel",
            "_view_count": null,
            "_view_module": "@jupyter-widgets/base",
            "_view_module_version": "1.2.0",
            "_view_name": "StyleView",
            "description_width": ""
          }
        },
        "dc0478df47cd4fccbb0429efdfd5c0b6": {
          "model_module": "@jupyter-widgets/controls",
          "model_name": "HBoxModel",
          "model_module_version": "1.5.0",
          "state": {
            "_dom_classes": [],
            "_model_module": "@jupyter-widgets/controls",
            "_model_module_version": "1.5.0",
            "_model_name": "HBoxModel",
            "_view_count": null,
            "_view_module": "@jupyter-widgets/controls",
            "_view_module_version": "1.5.0",
            "_view_name": "HBoxView",
            "box_style": "",
            "children": [
              "IPY_MODEL_4d151a4247e742aea58c047ec26b6ab6",
              "IPY_MODEL_88646a2fc3e246a7a7bb6c2f701c52da",
              "IPY_MODEL_c3b0d41eb31d435a964d1f3d1bd8f002"
            ],
            "layout": "IPY_MODEL_ee85328dc08041f7b9714a7e57abe01a"
          }
        },
        "4d151a4247e742aea58c047ec26b6ab6": {
          "model_module": "@jupyter-widgets/controls",
          "model_name": "HTMLModel",
          "model_module_version": "1.5.0",
          "state": {
            "_dom_classes": [],
            "_model_module": "@jupyter-widgets/controls",
            "_model_module_version": "1.5.0",
            "_model_name": "HTMLModel",
            "_view_count": null,
            "_view_module": "@jupyter-widgets/controls",
            "_view_module_version": "1.5.0",
            "_view_name": "HTMLView",
            "description": "",
            "description_tooltip": null,
            "layout": "IPY_MODEL_284ea815b2b44058a64e549ae6c24502",
            "placeholder": "​",
            "style": "IPY_MODEL_1523f2f2740540b2bd9806ce76c52c3d",
            "value": "100%"
          }
        },
        "88646a2fc3e246a7a7bb6c2f701c52da": {
          "model_module": "@jupyter-widgets/controls",
          "model_name": "FloatProgressModel",
          "model_module_version": "1.5.0",
          "state": {
            "_dom_classes": [],
            "_model_module": "@jupyter-widgets/controls",
            "_model_module_version": "1.5.0",
            "_model_name": "FloatProgressModel",
            "_view_count": null,
            "_view_module": "@jupyter-widgets/controls",
            "_view_module_version": "1.5.0",
            "_view_name": "ProgressView",
            "bar_style": "success",
            "description": "",
            "description_tooltip": null,
            "layout": "IPY_MODEL_f77c0f86570c4d2ca8f8d7b8863cb957",
            "max": 320000,
            "min": 0,
            "orientation": "horizontal",
            "style": "IPY_MODEL_b53254091c4343fdb8db73014d7f62bc",
            "value": 320000
          }
        },
        "c3b0d41eb31d435a964d1f3d1bd8f002": {
          "model_module": "@jupyter-widgets/controls",
          "model_name": "HTMLModel",
          "model_module_version": "1.5.0",
          "state": {
            "_dom_classes": [],
            "_model_module": "@jupyter-widgets/controls",
            "_model_module_version": "1.5.0",
            "_model_name": "HTMLModel",
            "_view_count": null,
            "_view_module": "@jupyter-widgets/controls",
            "_view_module_version": "1.5.0",
            "_view_name": "HTMLView",
            "description": "",
            "description_tooltip": null,
            "layout": "IPY_MODEL_a18ce98503394f6496abfdc8db707f7d",
            "placeholder": "​",
            "style": "IPY_MODEL_358fac9f44894700b74fc1d5df148835",
            "value": " 320000/320000 [00:02&lt;00:00, 133959.36it/s]"
          }
        },
        "ee85328dc08041f7b9714a7e57abe01a": {
          "model_module": "@jupyter-widgets/base",
          "model_name": "LayoutModel",
          "model_module_version": "1.2.0",
          "state": {
            "_model_module": "@jupyter-widgets/base",
            "_model_module_version": "1.2.0",
            "_model_name": "LayoutModel",
            "_view_count": null,
            "_view_module": "@jupyter-widgets/base",
            "_view_module_version": "1.2.0",
            "_view_name": "LayoutView",
            "align_content": null,
            "align_items": null,
            "align_self": null,
            "border": null,
            "bottom": null,
            "display": null,
            "flex": null,
            "flex_flow": null,
            "grid_area": null,
            "grid_auto_columns": null,
            "grid_auto_flow": null,
            "grid_auto_rows": null,
            "grid_column": null,
            "grid_gap": null,
            "grid_row": null,
            "grid_template_areas": null,
            "grid_template_columns": null,
            "grid_template_rows": null,
            "height": null,
            "justify_content": null,
            "justify_items": null,
            "left": null,
            "margin": null,
            "max_height": null,
            "max_width": null,
            "min_height": null,
            "min_width": null,
            "object_fit": null,
            "object_position": null,
            "order": null,
            "overflow": null,
            "overflow_x": null,
            "overflow_y": null,
            "padding": null,
            "right": null,
            "top": null,
            "visibility": null,
            "width": null
          }
        },
        "284ea815b2b44058a64e549ae6c24502": {
          "model_module": "@jupyter-widgets/base",
          "model_name": "LayoutModel",
          "model_module_version": "1.2.0",
          "state": {
            "_model_module": "@jupyter-widgets/base",
            "_model_module_version": "1.2.0",
            "_model_name": "LayoutModel",
            "_view_count": null,
            "_view_module": "@jupyter-widgets/base",
            "_view_module_version": "1.2.0",
            "_view_name": "LayoutView",
            "align_content": null,
            "align_items": null,
            "align_self": null,
            "border": null,
            "bottom": null,
            "display": null,
            "flex": null,
            "flex_flow": null,
            "grid_area": null,
            "grid_auto_columns": null,
            "grid_auto_flow": null,
            "grid_auto_rows": null,
            "grid_column": null,
            "grid_gap": null,
            "grid_row": null,
            "grid_template_areas": null,
            "grid_template_columns": null,
            "grid_template_rows": null,
            "height": null,
            "justify_content": null,
            "justify_items": null,
            "left": null,
            "margin": null,
            "max_height": null,
            "max_width": null,
            "min_height": null,
            "min_width": null,
            "object_fit": null,
            "object_position": null,
            "order": null,
            "overflow": null,
            "overflow_x": null,
            "overflow_y": null,
            "padding": null,
            "right": null,
            "top": null,
            "visibility": null,
            "width": null
          }
        },
        "1523f2f2740540b2bd9806ce76c52c3d": {
          "model_module": "@jupyter-widgets/controls",
          "model_name": "DescriptionStyleModel",
          "model_module_version": "1.5.0",
          "state": {
            "_model_module": "@jupyter-widgets/controls",
            "_model_module_version": "1.5.0",
            "_model_name": "DescriptionStyleModel",
            "_view_count": null,
            "_view_module": "@jupyter-widgets/base",
            "_view_module_version": "1.2.0",
            "_view_name": "StyleView",
            "description_width": ""
          }
        },
        "f77c0f86570c4d2ca8f8d7b8863cb957": {
          "model_module": "@jupyter-widgets/base",
          "model_name": "LayoutModel",
          "model_module_version": "1.2.0",
          "state": {
            "_model_module": "@jupyter-widgets/base",
            "_model_module_version": "1.2.0",
            "_model_name": "LayoutModel",
            "_view_count": null,
            "_view_module": "@jupyter-widgets/base",
            "_view_module_version": "1.2.0",
            "_view_name": "LayoutView",
            "align_content": null,
            "align_items": null,
            "align_self": null,
            "border": null,
            "bottom": null,
            "display": null,
            "flex": null,
            "flex_flow": null,
            "grid_area": null,
            "grid_auto_columns": null,
            "grid_auto_flow": null,
            "grid_auto_rows": null,
            "grid_column": null,
            "grid_gap": null,
            "grid_row": null,
            "grid_template_areas": null,
            "grid_template_columns": null,
            "grid_template_rows": null,
            "height": null,
            "justify_content": null,
            "justify_items": null,
            "left": null,
            "margin": null,
            "max_height": null,
            "max_width": null,
            "min_height": null,
            "min_width": null,
            "object_fit": null,
            "object_position": null,
            "order": null,
            "overflow": null,
            "overflow_x": null,
            "overflow_y": null,
            "padding": null,
            "right": null,
            "top": null,
            "visibility": null,
            "width": null
          }
        },
        "b53254091c4343fdb8db73014d7f62bc": {
          "model_module": "@jupyter-widgets/controls",
          "model_name": "ProgressStyleModel",
          "model_module_version": "1.5.0",
          "state": {
            "_model_module": "@jupyter-widgets/controls",
            "_model_module_version": "1.5.0",
            "_model_name": "ProgressStyleModel",
            "_view_count": null,
            "_view_module": "@jupyter-widgets/base",
            "_view_module_version": "1.2.0",
            "_view_name": "StyleView",
            "bar_color": null,
            "description_width": ""
          }
        },
        "a18ce98503394f6496abfdc8db707f7d": {
          "model_module": "@jupyter-widgets/base",
          "model_name": "LayoutModel",
          "model_module_version": "1.2.0",
          "state": {
            "_model_module": "@jupyter-widgets/base",
            "_model_module_version": "1.2.0",
            "_model_name": "LayoutModel",
            "_view_count": null,
            "_view_module": "@jupyter-widgets/base",
            "_view_module_version": "1.2.0",
            "_view_name": "LayoutView",
            "align_content": null,
            "align_items": null,
            "align_self": null,
            "border": null,
            "bottom": null,
            "display": null,
            "flex": null,
            "flex_flow": null,
            "grid_area": null,
            "grid_auto_columns": null,
            "grid_auto_flow": null,
            "grid_auto_rows": null,
            "grid_column": null,
            "grid_gap": null,
            "grid_row": null,
            "grid_template_areas": null,
            "grid_template_columns": null,
            "grid_template_rows": null,
            "height": null,
            "justify_content": null,
            "justify_items": null,
            "left": null,
            "margin": null,
            "max_height": null,
            "max_width": null,
            "min_height": null,
            "min_width": null,
            "object_fit": null,
            "object_position": null,
            "order": null,
            "overflow": null,
            "overflow_x": null,
            "overflow_y": null,
            "padding": null,
            "right": null,
            "top": null,
            "visibility": null,
            "width": null
          }
        },
        "358fac9f44894700b74fc1d5df148835": {
          "model_module": "@jupyter-widgets/controls",
          "model_name": "DescriptionStyleModel",
          "model_module_version": "1.5.0",
          "state": {
            "_model_module": "@jupyter-widgets/controls",
            "_model_module_version": "1.5.0",
            "_model_name": "DescriptionStyleModel",
            "_view_count": null,
            "_view_module": "@jupyter-widgets/base",
            "_view_module_version": "1.2.0",
            "_view_name": "StyleView",
            "description_width": ""
          }
        }
      }
    }
  },
  "cells": [
    {
      "cell_type": "code",
      "execution_count": 1,
      "metadata": {
        "colab": {
          "base_uri": "https://localhost:8080/"
        },
        "id": "UTTjsPZ2yj5b",
        "outputId": "0d71ef6a-eb6d-4cbc-9d29-8293a869445c"
      },
      "outputs": [
        {
          "output_type": "stream",
          "name": "stdout",
          "text": [
            "--2023-05-12 19:07:33--  http://cs.stanford.edu/people/alecmgo/trainingandtestdata.zip\n",
            "Resolving cs.stanford.edu (cs.stanford.edu)... 171.64.64.64\n",
            "Connecting to cs.stanford.edu (cs.stanford.edu)|171.64.64.64|:80... connected.\n",
            "HTTP request sent, awaiting response... 301 Moved Permanently\n",
            "Location: https://cs.stanford.edu/people/alecmgo/trainingandtestdata.zip [following]\n",
            "--2023-05-12 19:07:33--  https://cs.stanford.edu/people/alecmgo/trainingandtestdata.zip\n",
            "Connecting to cs.stanford.edu (cs.stanford.edu)|171.64.64.64|:443... connected.\n",
            "HTTP request sent, awaiting response... 200 OK\n",
            "Length: 81363704 (78M) [application/zip]\n",
            "Saving to: ‘trainingandtestdata.zip’\n",
            "\n",
            "trainingandtestdata 100%[===================>]  77.59M  47.6MB/s    in 1.6s    \n",
            "\n",
            "2023-05-12 19:07:35 (47.6 MB/s) - ‘trainingandtestdata.zip’ saved [81363704/81363704]\n",
            "\n"
          ]
        }
      ],
      "source": [
        "!wget http://cs.stanford.edu/people/alecmgo/trainingandtestdata.zip"
      ]
    },
    {
      "cell_type": "code",
      "source": [
        "!unzip /content/trainingandtestdata.zip"
      ],
      "metadata": {
        "colab": {
          "base_uri": "https://localhost:8080/"
        },
        "id": "FsJwiaOLzctr",
        "outputId": "e087f24f-c039-45fa-e4f5-82a50d3b9258"
      },
      "execution_count": 2,
      "outputs": [
        {
          "output_type": "stream",
          "name": "stdout",
          "text": [
            "Archive:  /content/trainingandtestdata.zip\n",
            "  inflating: testdata.manual.2009.06.14.csv  \n",
            "  inflating: training.1600000.processed.noemoticon.csv  \n"
          ]
        }
      ]
    },
    {
      "cell_type": "code",
      "source": [
        "import pandas as pd\n",
        "import seaborn as sns\n",
        "DATASET_COLUMNS  = [\"sentiment\", \"ids\", \"date\", \"flag\", \"user\", \"text\"]\n",
        "df=pd.read_csv(\"/content/training.1600000.processed.noemoticon.csv\" , encoding='latin-1', header=None, names=DATASET_COLUMNS)\n",
        "df = df[['sentiment','text']]\n",
        "# Replacing the values to ease understanding.\n",
        "df['sentiment'] = df['sentiment'].replace(4,1)\n",
        "ax= sns.countplot(x=df['sentiment'])\n",
        "ax.set_xticklabels(['Negative','Positive'], rotation=0)"
      ],
      "metadata": {
        "colab": {
          "base_uri": "https://localhost:8080/",
          "height": 467
        },
        "id": "MDWh-s1OzfMa",
        "outputId": "2e3dd59e-95a9-4add-f5b8-746dad097c9d"
      },
      "execution_count": 3,
      "outputs": [
        {
          "output_type": "execute_result",
          "data": {
            "text/plain": [
              "[Text(0, 0, 'Negative'), Text(1, 0, 'Positive')]"
            ]
          },
          "metadata": {},
          "execution_count": 3
        },
        {
          "output_type": "display_data",
          "data": {
            "text/plain": [
              "<Figure size 640x480 with 1 Axes>"
            ],
            "image/png": "[encoded data removed]"
          },
          "metadata": {}
        }
      ]
    },
    {
      "cell_type": "code",
      "source": [
        "import nltk \n",
        "nltk.download('stopwords')\n",
        "from nltk.corpus import stopwords\n",
        "from nltk.stem import WordNetLemmatizer\n",
        "import re\n",
        "stop_words = stopwords.words(\"english\")\n",
        "emojis = {':)': 'smile', ':-)': 'smile', ';d': 'wink', ':-E': 'vampire', ':(': 'sad', \n",
        "          ':-(': 'sad', ':-<': 'sad', ':P': 'raspberry', ':O': 'surprised',\n",
        "          ':-@': 'shocked', ':@': 'shocked',':-$': 'confused', ':\\\\': 'annoyed', \n",
        "          ':#': 'mute', ':X': 'mute', ':^)': 'smile', ':-&': 'confused', '$_$': 'greedy',\n",
        "          '@@': 'eyeroll', ':-!': 'confused', ':-D': 'smile', ':-0': 'yell', 'O.o': 'confused',\n",
        "          '<(-_-)>': 'robot', 'd[-_-]b': 'dj', \":'-)\": 'sadsmile', ';)': 'wink', \n",
        "          ';-)': 'wink', 'O:-)': 'angel','O*-)': 'angel','(:-D': 'gossip', '=^.^=': 'cat'}\n",
        "nltk.download('wordnet')\n",
        "\n",
        "\n",
        "def preprocess(textdata):\n",
        "    processedText = []\n",
        "    \n",
        "    # Create Lemmatizer and Stemmer.\n",
        "    wordLemm = WordNetLemmatizer()\n",
        "    \n",
        "    # Defining regex patterns.\n",
        "    urlPattern        = r\"((http://)[^ ]*|(https://)[^ ]*|( www\\.)[^ ]*)\"\n",
        "    userPattern       = '@[^\\s]+'\n",
        "    alphaPattern      = \"[^a-zA-Z0-9]\"\n",
        "    sequencePattern   = r\"(.)\\1\\1+\"\n",
        "    seqReplacePattern = r\"\\1\\1\"\n",
        "    \n",
        "    for tweet in textdata:\n",
        "        tweet = tweet.lower()\n",
        "        \n",
        "        # Replace all URls with 'URL'\n",
        "        tweet = re.sub(urlPattern,' URL',tweet)\n",
        "        # Replace all emojis.\n",
        "        for emoji in emojis.keys():\n",
        "            tweet = tweet.replace(emoji, \"EMOJI\" + emojis[emoji])        \n",
        "        # Replace @USERNAME to 'USER'.\n",
        "        tweet = re.sub(userPattern,' USER', tweet)        \n",
        "        # Replace all non alphabets.\n",
        "        tweet = re.sub(alphaPattern, \" \", tweet)\n",
        "        # Replace 3 or more consecutive letters by 2 letter.\n",
        "        tweet = re.sub(sequencePattern, seqReplacePattern, tweet)\n",
        "\n",
        "        tweetwords = ''\n",
        "        for word in tweet.split():\n",
        "            # Checking if the word is a stopword.\n",
        "            if word not in stop_words:\n",
        "              if len(word)>1:\n",
        "                  # Lemmatizing the word.\n",
        "                  word = wordLemm.lemmatize(word)\n",
        "                  tweetwords += (word+' ')\n",
        "            \n",
        "        processedText.append(tweetwords)\n",
        "        \n",
        "    return processedText"
      ],
      "metadata": {
        "colab": {
          "base_uri": "https://localhost:8080/"
        },
        "id": "corqdfy1zir6",
        "outputId": "755822a6-d716-4704-a7e7-3de359ca7774"
      },
      "execution_count": 4,
      "outputs": [
        {
          "output_type": "stream",
          "name": "stderr",
          "text": [
            "[nltk_data] Downloading package stopwords to /root/nltk_data...\n",
            "[nltk_data]   Unzipping corpora/stopwords.zip.\n",
            "[nltk_data] Downloading package wordnet to /root/nltk_data...\n"
          ]
        }
      ]
    },
    {
      "cell_type": "code",
      "source": [
        "processedtext = preprocess(df[\"text\"])"
      ],
      "metadata": {
        "id": "VqKqkB3Yzm8D"
      },
      "execution_count": 5,
      "outputs": []
    },
    {
      "cell_type": "code",
      "source": [
        "import torch\n",
        "import torch.nn as nn\n",
        "import torch.nn.functional as F\n",
        "import torch.optim as optim\n",
        "import torchtext\n",
        "import numpy as np\n",
        "import matplotlib.pyplot as plt\n",
        "from sklearn.model_selection import train_test_split\n",
        "x_train_text, x_test_text, y_train, y_test = train_test_split(processedtext, df['sentiment'], test_size=0.2, random_state=42,stratify=df['sentiment'])"
      ],
      "metadata": {
        "id": "g3HfqwT5zocL"
      },
      "execution_count": 6,
      "outputs": []
    },
    {
      "cell_type": "code",
      "source": [
        "from nltk.tokenize import WhitespaceTokenizer\n",
        "tk = WhitespaceTokenizer()\n",
        "\n",
        "print('Before Tokenize: ', x_train_text[1])\n",
        "print('After Tokenize: ', tk.tokenize(x_train_text[1]))"
      ],
      "metadata": {
        "colab": {
          "base_uri": "https://localhost:8080/"
        },
        "id": "yY9UMGvrI1Ih",
        "outputId": "6159d633-53bb-4df0-dd96-bf4471e3e5f6"
      },
      "execution_count": 8,
      "outputs": [
        {
          "output_type": "stream",
          "name": "stdout",
          "text": [
            "Before Tokenize:  worst headache ever \n",
            "After Tokenize:  ['worst', 'headache', 'ever']\n"
          ]
        }
      ]
    },
    {
      "cell_type": "code",
      "source": [
        "from tqdm.notebook import tqdm\n",
        "x_train_token = [tk.tokenize(s) for s in tqdm(x_train_text)]\n",
        "x_test_token = [tk.tokenize(s) for s in tqdm(x_test_text)]"
      ],
      "metadata": {
        "colab": {
          "base_uri": "https://localhost:8080/",
          "height": 81,
          "referenced_widgets": [
            "721cebdf33984b1c9c7f7a88bfab6fd5",
            "f71d18fc26c045b1bf1cd901fcb54847",
            "96dd826f4417410db3e7323ac509e48a",
            "25ac2c0a1e7947cd8da45cd196c8685f",
            "c8adcc3bf56c4a3babdec0c004286f97",
            "a08fc6860ea54fda81819d24d683c5fe",
            "3a370b60fc9746ad90b0a38826781d2a",
            "e874f8c359de4b6db9c778fcda2ca9d4",
            "9fd3c18d2ccc4e2aa2ac8be6bad876ee",
            "044a637c49e640f69a16ec2b5e911863",
            "6ddef8e95cd248dea9580b54d40eac13",
            "dc0478df47cd4fccbb0429efdfd5c0b6",
            "4d151a4247e742aea58c047ec26b6ab6",
            "88646a2fc3e246a7a7bb6c2f701c52da",
            "c3b0d41eb31d435a964d1f3d1bd8f002",
            "ee85328dc08041f7b9714a7e57abe01a",
            "284ea815b2b44058a64e549ae6c24502",
            "1523f2f2740540b2bd9806ce76c52c3d",
            "f77c0f86570c4d2ca8f8d7b8863cb957",
            "b53254091c4343fdb8db73014d7f62bc",
            "a18ce98503394f6496abfdc8db707f7d",
            "358fac9f44894700b74fc1d5df148835"
          ]
        },
        "id": "BEjLZ8wxJ7T7",
        "outputId": "f0829cfe-0412-4c97-9357-eb0440c4801f"
      },
      "execution_count": 9,
      "outputs": [
        {
          "output_type": "display_data",
          "data": {
            "text/plain": [
              "  0%|          | 0/1280000 [00:00<?, ?it/s]"
            ],
            "application/vnd.jupyter.widget-view+json": {
              "version_major": 2,
              "version_minor": 0,
              "model_id": "721cebdf33984b1c9c7f7a88bfab6fd5"
            }
          },
          "metadata": {}
        },
        {
          "output_type": "display_data",
          "data": {
            "text/plain": [
              "  0%|          | 0/320000 [00:00<?, ?it/s]"
            ],
            "application/vnd.jupyter.widget-view+json": {
              "version_major": 2,
              "version_minor": 0,
              "model_id": "dc0478df47cd4fccbb0429efdfd5c0b6"
            }
          },
          "metadata": {}
        }
      ]
    },
    {
      "cell_type": "code",
      "source": [
        "import torch\n",
        "device = \"cuda\" if torch.cuda.is_available() else \"cpu\""
      ],
      "metadata": {
        "id": "cCh7w9qHPN3T"
      },
      "execution_count": 10,
      "outputs": []
    },
    {
      "cell_type": "code",
      "source": [
        "from collections import Counter\n",
        "\n",
        "words = Counter()\n",
        "for s in x_train_token:\n",
        "  for w in s:\n",
        "    words[w] += 1\n",
        "\n",
        "sorted_words = list(words.keys())\n",
        "sorted_words.sort(key=lambda w: words[w], reverse=True)\n",
        "print(f\"Number of different Tokens in our Dataset: {len(sorted_words)}\")\n",
        "print(sorted_words[:100])"
      ],
      "metadata": {
        "colab": {
          "base_uri": "https://localhost:8080/"
        },
        "id": "hkzrZhqZP2Qh",
        "outputId": "8caa376e-836e-437a-9e8d-e9286d218b7c"
      },
      "execution_count": 11,
      "outputs": [
        {
          "output_type": "stream",
          "name": "stdout",
          "text": [
            "Number of different Tokens in our Dataset: 217812\n",
            "['USER', 'day', 'good', 'get', 'like', 'go', 'URL', 'quot', 'today', 'work', 'love', 'time', 'going', 'got', 'lol', 'one', 'back', 'know', 'im', 'really', 'want', 'amp', 'see', 'night', 'think', 'still', 'well', 'new', 'need', 'home', 'thanks', 'oh', 'miss', 'much', 'last', 'feel', 'morning', 'make', 'hope', 'tomorrow', 'twitter', 'great', 'haha', 'wish', 'sad', 'sleep', 'fun', 'come', 'week', 'right', 'bad', 'would', 'happy', 'sorry', 'thing', 'tonight', 'friend', 'way', 'getting', 'though', 'look', 'gonna', 'better', 'nice', 'watching', 'say', 'yeah', 'bed', 'wait', 'could', 'hate', 'school', 'people', 'hour', 'yes', 'guy', 'weekend', 'even', 'hey', 'soo', 'show', 'next', 'take', 'lt', 'dont', 'tweet', 'awesome', 'soon', 'thank', 'never', 'cant', 'let', 'life', 'long', 'little', 'working', 'first', 'year', 'wanna', 'aww']\n"
          ]
        }
      ]
    },
    {
      "cell_type": "code",
      "source": [
        "count_occurences = sum(words.values())\n",
        "\n",
        "accumulated = 0\n",
        "counter = 0\n",
        "\n",
        "while accumulated < count_occurences * 0.8:\n",
        "  accumulated += words[sorted_words[counter]]\n",
        "  counter += 1\n",
        "\n",
        "print(f\"The {counter * 100 / len(words)}% most common words \"\n",
        "      f\"account for the {accumulated * 100 / count_occurences}% of the occurrences\")"
      ],
      "metadata": {
        "colab": {
          "base_uri": "https://localhost:8080/"
        },
        "id": "4JqTIeYTP8eb",
        "outputId": "8f3161d0-e6f0-4069-e125-c93e8f025b8a"
      },
      "execution_count": 12,
      "outputs": [
        {
          "output_type": "stream",
          "name": "stdout",
          "text": [
            "The 0.9912217875966429% most common words account for the 80.00119163352436% of the occurrences\n"
          ]
        }
      ]
    },
    {
      "cell_type": "code",
      "source": [
        "num_words_dict = 10000\n",
        "# We reserve two numbers for special tokens.\n",
        "most_used_words = sorted_words[:num_words_dict-2]"
      ],
      "metadata": {
        "id": "ONsZshFMQKF7"
      },
      "execution_count": 13,
      "outputs": []
    },
    {
      "cell_type": "code",
      "source": [
        "# dictionary to go from words to idx\n",
        "word_to_idx = {}\n",
        "# dictionary to go from idx to words (just in case)\n",
        "idx_to_word = {}\n",
        "\n",
        "\n",
        "# We include the special tokens first\n",
        "PAD_token = 0\n",
        "UNK_token = 1\n",
        "\n",
        "word_to_idx['PAD'] = PAD_token\n",
        "word_to_idx['UNK'] = UNK_token\n",
        "\n",
        "idx_to_word[PAD_token] = 'PAD'\n",
        "idx_to_word[UNK_token] = 'UNK'\n",
        "\n",
        "# We popullate our dictionaries with the most used words\n",
        "for num,word in enumerate(most_used_words):\n",
        "  word_to_idx[word] = num + 2\n",
        "  idx_to_word[num+2] = word"
      ],
      "metadata": {
        "id": "RNzLGGIaQL-E"
      },
      "execution_count": 14,
      "outputs": []
    },
    {
      "cell_type": "code",
      "source": [
        "# A function to convert list of tokens to list of indexes\n",
        "def tokens_to_idx(sentences_tokens,word_to_idx):\n",
        "  sentences_idx = []\n",
        "  for sent in sentences_tokens:\n",
        "    sent_idx = []\n",
        "    for word in sent:\n",
        "      if word in word_to_idx:\n",
        "        sent_idx.append(word_to_idx[word])\n",
        "      else:\n",
        "        sent_idx.append(word_to_idx['UNK'])\n",
        "    sentences_idx.append(sent_idx)\n",
        "  return sentences_idx"
      ],
      "metadata": {
        "id": "bnryLulJQdJL"
      },
      "execution_count": 15,
      "outputs": []
    },
    {
      "cell_type": "code",
      "source": [
        "x_train_idx = tokens_to_idx(x_train_token,word_to_idx)\n",
        "x_test_idx = tokens_to_idx(x_test_token,word_to_idx)\n",
        "     \n",
        "\n",
        "some_number = 1\n",
        "print('Before converting: ', x_train_token[some_number])\n",
        "print('After converting: ', x_train_idx[some_number])"
      ],
      "metadata": {
        "colab": {
          "base_uri": "https://localhost:8080/"
        },
        "id": "UueVpyfLQUHi",
        "outputId": "b0793cec-3123-4fc2-d274-6630982f458a"
      },
      "execution_count": 16,
      "outputs": [
        {
          "output_type": "stream",
          "name": "stdout",
          "text": [
            "Before converting:  ['worst', 'headache', 'ever']\n",
            "After converting:  [572, 316, 138]\n"
          ]
        }
      ]
    },
    {
      "cell_type": "code",
      "source": [
        "import numpy as np\n",
        "tweet_lens = np.asarray([len(sentence) for sentence in x_train_idx])\n",
        "print('Max tweet word length: ',tweet_lens.max())\n",
        "print('Mean tweet word length: ',np.median(tweet_lens))\n",
        "print('99% percent under: ',np.quantile(tweet_lens,0.99))"
      ],
      "metadata": {
        "colab": {
          "base_uri": "https://localhost:8080/"
        },
        "id": "YWSbHLNiQbQi",
        "outputId": "89f63e5b-3d2f-45e3-d8ad-20aa3a504b49"
      },
      "execution_count": 17,
      "outputs": [
        {
          "output_type": "stream",
          "name": "stdout",
          "text": [
            "Max tweet word length:  34\n",
            "Mean tweet word length:  7.0\n",
            "99% percent under:  17.0\n"
          ]
        }
      ]
    },
    {
      "cell_type": "code",
      "source": [
        "def tokens_to_idx(sentences_tokens,word_to_idx):\n",
        "  sentences_idx = []\n",
        "  for sent in sentences_tokens:\n",
        "    sent_idx = []\n",
        "    for word in sent:\n",
        "      if word in word_to_idx:\n",
        "        sent_idx.append(word_to_idx[word])\n",
        "      else:\n",
        "        sent_idx.append(word_to_idx['UNK'])\n",
        "    sentences_idx.append(sent_idx)\n",
        "  return sentences_idx\n"
      ],
      "metadata": {
        "id": "Li_IXGr5QQmy"
      },
      "execution_count": 18,
      "outputs": []
    },
    {
      "cell_type": "code",
      "source": [
        " import numpy as np\n",
        " # We choose the max length\n",
        " max_length = 40\n",
        "\n",
        "# A function to make all the sequence have the same lenght\n",
        "# Note that the output is a Numpy matrix\n",
        " def padding(sentences, seq_len):\n",
        "  features = np.zeros((len(sentences), seq_len),dtype=int)\n",
        "  for ii, tweet in enumerate(sentences):\n",
        "    len_tweet = len(tweet)\n",
        "    if len_tweet != 0:\n",
        "      if len_tweet <= seq_len:\n",
        "        # If its shorter, we fill with zeros (the padding Token index)\n",
        "        features[ii, -len(tweet):] = np.array(tweet)[:seq_len]\n",
        "      if len_tweet > seq_len:\n",
        "        # If its larger, we take the last 'seq_len' indexes\n",
        "        features[ii, :] = np.array(tweet)[-seq_len:]\n",
        "  return features\n",
        "     \n",
        "\n",
        "# We convert our list of tokens into a numpy matrix\n",
        "# where all instances have the same lenght\n",
        "x_train_pad = padding(x_train_idx,max_length)\n",
        "x_test_pad = padding(x_test_idx,max_length)\n",
        "\n",
        "# We convert our target list a numpy matrix\n",
        "y_train_np = np.asarray(y_train)\n",
        "y_test_np = np.asarray(y_test)\n",
        "     \n",
        "\n",
        "some_number = 2\n",
        "print('Before padding: ', x_train_idx[some_number])\n",
        "print('After padding: ', x_train_pad[some_number])"
      ],
      "metadata": {
        "colab": {
          "base_uri": "https://localhost:8080/"
        },
        "id": "04T17XhoQqPt",
        "outputId": "bf9566cd-91c4-4b86-fe96-f794c2d16e89"
      },
      "execution_count": 19,
      "outputs": [
        {
          "output_type": "stream",
          "name": "stdout",
          "text": [
            "Before padding:  [2, 46, 399, 24, 34, 116, 68, 529, 49, 18, 2964]\n",
            "After padding:  [   0    0    0    0    0    0    0    0    0    0    0    0    0    0\n",
            "    0    0    0    0    0    0    0    0    0    0    0    0    0    0\n",
            "    0    2   46  399   24   34  116   68  529   49   18 2964]\n"
          ]
        }
      ]
    },
    {
      "cell_type": "code",
      "source": [
        "from torch.utils.data import TensorDataset, DataLoader\n",
        "import torch\n",
        "import torch.nn as nn\n",
        "import torch.optim as optim\n",
        "import torch.nn.functional as F\n",
        "train_data = TensorDataset(torch.from_numpy(x_train_pad), torch.from_numpy(y_train_np))\n",
        "valid_data = TensorDataset(torch.from_numpy(x_test_pad), torch.from_numpy(y_test_np))\n",
        "\n",
        "# Batch size (this is an important hyperparameter)\n",
        "batch_size = 100\n",
        "\n",
        "# dataloaders\n",
        "# make sure to SHUFFLE your data\n",
        "train_loader = DataLoader(train_data, shuffle=True, batch_size=batch_size,drop_last = True)\n",
        "valid_loader = DataLoader(valid_data, shuffle=True, batch_size=batch_size,drop_last = True)\n",
        "test_loader = DataLoader(valid_data, shuffle=True, batch_size=batch_size,drop_last = True)"
      ],
      "metadata": {
        "id": "q7EwAj4rQ8di"
      },
      "execution_count": 38,
      "outputs": []
    },
    {
      "cell_type": "code",
      "source": [
        "class TweetRNN(nn.Module):\n",
        "    def __init__(self, input_size, hidden_size, num_classes):\n",
        "        super(TweetRNN, self).__init__()\n",
        "        self.embedding = nn.Embedding(vocab_size, embedding_dim)\n",
        "        self.hidden_size = hidden_size\n",
        "        self.rnn = nn.RNN(input_size, hidden_size, batch_first=True)\n",
        "        self.fc = nn.Linear(hidden_size, num_classes)\n",
        "    \n",
        "    def forward(self, x):\n",
        "        # Look up the embedding\n",
        "        x = self.embedding(x)\n",
        "        # Forward propagate the RNN\n",
        "        out, _ = self.rnn(x)\n",
        "        # Pass the output of the last time step to the classifier\n",
        "        out = self.fc(out[:, -1, :])\n",
        "        return out\n",
        "\n"
      ],
      "metadata": {
        "id": "rPjJCMbgKqcL"
      },
      "execution_count": 36,
      "outputs": []
    },
    {
      "cell_type": "code",
      "source": [
        "def train_rnn_network(model, train, valid, num_epochs=5, learning_rate=1e-5):\n",
        "    criterion = nn.CrossEntropyLoss()\n",
        "    optimizer = torch.optim.Adam(model.parameters(), lr=learning_rate)\n",
        "    losses, train_acc, valid_acc = [], [], []\n",
        "    epochs = []\n",
        "    for epoch in range(num_epochs):\n",
        "        for tweets, labels in train:\n",
        "            optimizer.zero_grad()\n",
        "            pred = model(tweets)\n",
        "            loss = criterion(pred, labels)\n",
        "            loss.backward()\n",
        "            optimizer.step()\n",
        "        losses.append(float(loss))\n",
        "\n",
        "        epochs.append(epoch)\n",
        "        train_acc.append(get_accuracy(model, train_loader))\n",
        "        valid_acc.append(get_accuracy(model, valid_loader))\n",
        "        print(\"Epoch %d; Loss %f; Train Acc %f; Val Acc %f\" % (\n",
        "              epoch+1, loss, train_acc[-1], valid_acc[-1]))\n",
        "    # plotting\n",
        "    plt.title(\"Training Curve\")\n",
        "    plt.plot(losses, label=\"Train\")\n",
        "    plt.xlabel(\"Epoch\")\n",
        "    plt.ylabel(\"Loss\")\n",
        "    plt.show()\n",
        "\n",
        "    plt.title(\"Training Curve\")\n",
        "    plt.plot(epochs, train_acc, label=\"Train\")\n",
        "    plt.plot(epochs, valid_acc, label=\"Validation\")\n",
        "    plt.xlabel(\"Epoch\")\n",
        "    plt.ylabel(\"Accuracy\")\n",
        "    plt.legend(loc='best')\n",
        "    plt.show()"
      ],
      "metadata": {
        "id": "-k1Ljc0sKw9b"
      },
      "execution_count": 33,
      "outputs": []
    },
    {
      "cell_type": "code",
      "source": [
        "def get_accuracy(model, data_loader):\n",
        "    correct, total = 0, 0\n",
        "    for tweets, labels in data_loader:\n",
        "        output = model(tweets)\n",
        "        pred = output.max(1, keepdim=True)[1]\n",
        "        correct += pred.eq(labels.view_as(pred)).sum().item()\n",
        "        total += labels.shape[0]\n",
        "    return correct / total\n"
      ],
      "metadata": {
        "id": "fqW0qmTeKuN0"
      },
      "execution_count": 34,
      "outputs": []
    },
    {
      "cell_type": "code",
      "source": [
        "model = TweetRNN(32, 50, 2)\n",
        "train_rnn_network(model, train_loader, valid_loader, num_epochs=5, learning_rate=2e-4)\n",
        "get_accuracy(model, test_loader)"
      ],
      "metadata": {
        "colab": {
          "base_uri": "https://localhost:8080/",
          "height": 1000
        },
        "id": "yyXdmXTrLOkj",
        "outputId": "09a5af7b-cbcd-4537-b146-dcbc2c3c4861"
      },
      "execution_count": 40,
      "outputs": [
        {
          "output_type": "stream",
          "name": "stdout",
          "text": [
            "Epoch 1; Loss 0.487513; Train Acc 0.754235; Val Acc 0.752184\n",
            "Epoch 2; Loss 0.398277; Train Acc 0.774486; Val Acc 0.771216\n",
            "Epoch 3; Loss 0.414088; Train Acc 0.780998; Val Acc 0.777153\n",
            "Epoch 4; Loss 0.419112; Train Acc 0.783893; Val Acc 0.779694\n",
            "Epoch 5; Loss 0.388916; Train Acc 0.787149; Val Acc 0.782844\n"
          ]
        },
        {
          "output_type": "display_data",
          "data": {
            "text/plain": [
              "<Figure size 640x480 with 1 Axes>"
            ],
            "image/png": "[encoded data removed]"
          },
          "metadata": {}
        },
        {
          "output_type": "display_data",
          "data": {
            "text/plain": [
              "<Figure size 640x480 with 1 Axes>"
            ],
            "image/png": "[encoded data removed]"
          },
          "metadata": {}
        },
        {
          "output_type": "execute_result",
          "data": {
            "text/plain": [
              "0.78284375"
            ]
          },
          "metadata": {},
          "execution_count": 40
        }
      ]
    },
    {
      "cell_type": "code",
      "source": [
        "from sklearn.metrics import confusion_matrix\n",
        "import matplotlib.pyplot as plt\n",
        "import seaborn as sns\n",
        "model.eval()\n",
        "y_true = []\n",
        "y_pred = []\n",
        "with torch.no_grad():\n",
        "    for x, y in test_loader:\n",
        "        output = model(x)\n",
        "        _, preds = torch.max(output, 1)\n",
        "        y_true.extend(y.tolist())\n",
        "        y_pred.extend(preds.tolist())\n",
        "\n",
        "# Generate the confusion matrix\n",
        "cm = confusion_matrix(y_true, y_pred)\n",
        "sns.heatmap(cm, annot=True, cmap='Blues', fmt='g')\n",
        "plt.xlabel('Predicted labels')\n",
        "plt.ylabel('True labels')\n",
        "plt.show()"
      ],
      "metadata": {
        "colab": {
          "base_uri": "https://localhost:8080/",
          "height": 449
        },
        "id": "S5dQw7CTRf7T",
        "outputId": "8b885feb-cff1-47c9-bea2-39428bd3a453"
      },
      "execution_count": 41,
      "outputs": [
        {
          "output_type": "display_data",
          "data": {
            "text/plain": [
              "<Figure size 640x480 with 2 Axes>"
            ],
            "image/png": "[encoded data removed]"
          },
          "metadata": {}
        }
      ]
    },
    {
      "cell_type": "markdown",
      "source": [
        "# lstm\n"
      ],
      "metadata": {
        "id": "eqVhoCjKXDD7"
      }
    },
    {
      "cell_type": "code",
      "source": [
        "class TweetLSTM(nn.Module):\n",
        "    def __init__(self, input_size, hidden_size, num_classes):\n",
        "        super(TweetLSTM, self).__init__()\n",
        "        self.emb = nn.Embedding.from_pretrained(glove.vectors)\n",
        "        self.hidden_size = hidden_size\n",
        "        self.rnn = nn.LSTM(input_size, hidden_size, batch_first=True)\n",
        "        self.fc = nn.Linear(hidden_size, num_classes)\n",
        "    \n",
        "    def forward(self, x):\n",
        "        # Look up the embedding\n",
        "        x = self.emb(x)\n",
        "        # Set an initial hidden state and cell state\n",
        "        h0 = torch.zeros(1, x.size(0), self.hidden_size)\n",
        "        c0 = torch.zeros(1, x.size(0), self.hidden_size)\n",
        "        # Forward propagate the LSTM\n",
        "        out, _ = self.rnn(x, (h0, c0))\n",
        "        # Pass the output of the last time step to the classifier\n",
        "        out = self.fc(out[:, -1, :])\n",
        "        return out"
      ],
      "metadata": {
        "id": "fjERUk9YXI5t"
      },
      "execution_count": null,
      "outputs": []
    },
    {
      "cell_type": "code",
      "source": [
        "model_lstm = TweetLSTM(32, 50, 2)\n",
        "train_rnn_network(model_lstm, train_loader, valid_loader, num_epochs=5, learning_rate=2e-4)\n",
        "get_accuracy(model_lstm, test_loader)"
      ],
      "metadata": {
        "colab": {
          "base_uri": "https://localhost:8080/"
        },
        "outputId": "ed189543-2928-4a46-a54d-779180e6a801",
        "id": "iXY-j4QDXI5t"
      },
      "execution_count": null,
      "outputs": [
        {
          "output_type": "stream",
          "name": "stdout",
          "text": [
            "Epoch 1; Loss 0.520715; Train Acc 0.760971; Val Acc 0.758425\n",
            "Epoch 2; Loss 0.593789; Train Acc 0.776853; Val Acc 0.773012\n"
          ]
        }
      ]
    },
    {
      "cell_type": "code",
      "source": [
        "from sklearn.metrics import confusion_matrix\n",
        "import matplotlib.pyplot as plt\n",
        "import seaborn as sns\n",
        "model_lstm.eval()\n",
        "y_true = []\n",
        "y_pred = []\n",
        "with torch.no_grad():\n",
        "    for x, y in test_loader:\n",
        "        output = model_lstm(x)\n",
        "        _, preds = torch.max(output, 1)\n",
        "        y_true.extend(y.tolist())\n",
        "        y_pred.extend(preds.tolist())\n",
        "\n",
        "# Generate the confusion matrix\n",
        "cm = confusion_matrix(y_true, y_pred)\n",
        "sns.heatmap(cm, annot=True, cmap='Blues', fmt='g')\n",
        "plt.xlabel('Predicted labels')\n",
        "plt.ylabel('True labels')\n",
        "plt.show()"
      ],
      "metadata": {
        "id": "1NEWTLM4XI5u"
      },
      "execution_count": null,
      "outputs": []
    },
    {
      "cell_type": "markdown",
      "source": [
        "# GRU"
      ],
      "metadata": {
        "id": "pJBNC3IzKLST"
      }
    },
    {
      "cell_type": "code",
      "source": [
        "class TweetGRU(nn.Module):\n",
        "    def __init__(self, input_size, hidden_size, num_classes):\n",
        "        super(TweetGRU, self).__init__()\n",
        "        self.embedding = nn.Embedding(vocab_size, embedding_dim)\n",
        "        self.hidden_size = hidden_size\n",
        "        self.rnn = nn.GRU(input_size, hidden_size, batch_first=True)\n",
        "        self.fc = nn.Linear(hidden_size, num_classes)\n",
        "    \n",
        "    def forward(self, x):\n",
        "        # Look up the embedding\n",
        "        x = self.embedding(x)\n",
        "        # Forward propagate the RNN\n",
        "        out, _ = self.rnn(x)\n",
        "        # Pass the output of the last time step to the classifier\n",
        "        out = self.fc(out[:, -1, :])\n",
        "        return out"
      ],
      "metadata": {
        "id": "Zn1jGLUKQymb"
      },
      "execution_count": 42,
      "outputs": []
    },
    {
      "cell_type": "code",
      "source": [
        "model_GRU = TweetGRU(32, 50, 2)\n",
        "train_rnn_network(model_GRU, train_loader, valid_loader, num_epochs=5, learning_rate=2e-4)\n",
        "get_accuracy(model_GRU, test_loader)"
      ],
      "metadata": {
        "colab": {
          "base_uri": "https://localhost:8080/"
        },
        "id": "0kjtbccMRKQj",
        "outputId": "ed189543-2928-4a46-a54d-779180e6a801"
      },
      "execution_count": null,
      "outputs": [
        {
          "output_type": "stream",
          "name": "stdout",
          "text": [
            "Epoch 1; Loss 0.520715; Train Acc 0.760971; Val Acc 0.758425\n",
            "Epoch 2; Loss 0.593789; Train Acc 0.776853; Val Acc 0.773012\n",
            "Epoch 3; Loss 0.501671; Train Acc 0.784113; Val Acc 0.778897\n",
            "Epoch 4; Loss 0.483922; Train Acc 0.787200; Val Acc 0.781119\n"
          ]
        }
      ]
    },
    {
      "cell_type": "code",
      "source": [
        "from sklearn.metrics import confusion_matrix\n",
        "import matplotlib.pyplot as plt\n",
        "import seaborn as sns\n",
        "model_GRU.eval()\n",
        "y_true = []\n",
        "y_pred = []\n",
        "with torch.no_grad():\n",
        "    for x, y in test_loader:\n",
        "        output = model_GRU(x)\n",
        "        _, preds = torch.max(output, 1)\n",
        "        y_true.extend(y.tolist())\n",
        "        y_pred.extend(preds.tolist())\n",
        "\n",
        "# Generate the confusion matrix\n",
        "cm = confusion_matrix(y_true, y_pred)\n",
        "sns.heatmap(cm, annot=True, cmap='Blues', fmt='g')\n",
        "plt.xlabel('Predicted labels')\n",
        "plt.ylabel('True labels')\n",
        "plt.show()"
      ],
      "metadata": {
        "id": "_v7HXvZsW95q"
      },
      "execution_count": null,
      "outputs": []
    }
  ]
}