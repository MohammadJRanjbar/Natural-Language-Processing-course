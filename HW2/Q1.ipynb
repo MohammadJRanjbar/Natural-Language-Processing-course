{
  "nbformat": 4,
  "nbformat_minor": 0,
  "metadata": {
    "colab": {
      "provenance": []
    },
    "kernelspec": {
      "name": "python3",
      "display_name": "Python 3"
    },
    "language_info": {
      "name": "python"
    }
  },
  "cells": [
    {
      "cell_type": "markdown",
      "source": [
        "Unzipping the data"
      ],
      "metadata": {
        "id": "qGdvvfyPcLcX"
      }
    },
    {
      "cell_type": "code",
      "execution_count": 1,
      "metadata": {
        "colab": {
          "base_uri": "https://localhost:8080/"
        },
        "id": "6KiF5Af5w3Mf",
        "outputId": "f2f7c2fc-74fc-4ba1-df27-21bdf2740d62"
      },
      "outputs": [
        {
          "output_type": "stream",
          "name": "stdout",
          "text": [
            "Archive:  Snapp.zip\n",
            "  inflating: Snappfood - Sentiment Analysis.csv  \n"
          ]
        }
      ],
      "source": [
        "!unzip Snapp.zip"
      ]
    },
    {
      "cell_type": "markdown",
      "source": [
        "Importing packages"
      ],
      "metadata": {
        "id": "CguSBnggcRb3"
      }
    },
    {
      "cell_type": "code",
      "source": [
        "import pandas as pd\n",
        "from sklearn.model_selection import train_test_split\n",
        "from sklearn.naive_bayes import GaussianNB\n",
        "import numpy as np\n",
        "from sklearn.metrics import classification_report\n",
        "from sklearn.metrics import classification_report, confusion_matrix\n",
        "from collections import Counter\n",
        "import math"
      ],
      "metadata": {
        "id": "3RXVzL_HxhmR"
      },
      "execution_count": 1,
      "outputs": []
    },
    {
      "cell_type": "markdown",
      "source": [
        "Installing packages"
      ],
      "metadata": {
        "id": "knYgq00ZcUwX"
      }
    },
    {
      "cell_type": "code",
      "source": [
        "!pip install -q hazm\n",
        "!pip install nltk"
      ],
      "metadata": {
        "colab": {
          "base_uri": "https://localhost:8080/"
        },
        "id": "AOlEYiVBgnr0",
        "outputId": "6e720690-38da-41db-b424-1fc4c0ad5095"
      },
      "execution_count": 3,
      "outputs": [
        {
          "output_type": "stream",
          "name": "stdout",
          "text": [
            "\u001b[2K     \u001b[90m━━━━━━━━━━━━━━━━━━━━━━━━━━━━━━━━━━━━━━━\u001b[0m \u001b[32m316.7/316.7 kB\u001b[0m \u001b[31m5.9 MB/s\u001b[0m eta \u001b[36m0:00:00\u001b[0m\n",
            "\u001b[2K     \u001b[90m━━━━━━━━━━━━━━━━━━━━━━━━━━━━━━━━━━━━━━━━\u001b[0m \u001b[32m1.4/1.4 MB\u001b[0m \u001b[31m34.5 MB/s\u001b[0m eta \u001b[36m0:00:00\u001b[0m\n",
            "\u001b[?25h  Preparing metadata (setup.py) ... \u001b[?25l\u001b[?25hdone\n",
            "\u001b[2K     \u001b[90m━━━━━━━━━━━━━━━━━━━━━━━━━━━━━━━━━━━━━━\u001b[0m \u001b[32m233.6/233.6 kB\u001b[0m \u001b[31m17.0 MB/s\u001b[0m eta \u001b[36m0:00:00\u001b[0m\n",
            "\u001b[?25h  Preparing metadata (setup.py) ... \u001b[?25l\u001b[?25hdone\n",
            "  Building wheel for nltk (setup.py) ... \u001b[?25l\u001b[?25hdone\n",
            "  Building wheel for libwapiti (setup.py) ... \u001b[?25l\u001b[?25hdone\n",
            "Looking in indexes: https://pypi.org/simple, https://us-python.pkg.dev/colab-wheels/public/simple/\n",
            "Requirement already satisfied: nltk in /usr/local/lib/python3.10/dist-packages (3.3)\n",
            "Requirement already satisfied: six in /usr/local/lib/python3.10/dist-packages (from nltk) (1.16.0)\n"
          ]
        }
      ]
    },
    {
      "cell_type": "markdown",
      "source": [
        "Importing packages"
      ],
      "metadata": {
        "id": "_B6Lml3bcf0t"
      }
    },
    {
      "cell_type": "code",
      "source": [
        "from hazm import Normalizer,Stemmer,Lemmatizer\n",
        "from hazm import stopwords_list\n",
        "from hazm import *\n",
        "normalizer = Normalizer()\n",
        "stemr = Stemmer()\n",
        "lemmatizer = Lemmatizer()"
      ],
      "metadata": {
        "id": "3nHPBQEVgx4y"
      },
      "execution_count": 2,
      "outputs": []
    },
    {
      "cell_type": "markdown",
      "source": [
        "Reading the data"
      ],
      "metadata": {
        "id": "FmGEe6OhchHh"
      }
    },
    {
      "cell_type": "code",
      "source": [
        "df = pd.read_csv('/content/Snappfood - Sentiment Analysis.csv' , on_bad_lines='skip' , delimiter='\\t')\n",
        "df.head()"
      ],
      "metadata": {
        "colab": {
          "base_uri": "https://localhost:8080/",
          "height": 206
        },
        "id": "dwiSZclqxjjZ",
        "outputId": "c670c5b4-22df-4d97-8510-43fd32cccca0"
      },
      "execution_count": 3,
      "outputs": [
        {
          "output_type": "execute_result",
          "data": {
            "text/plain": [
              "  Unnamed: 0                                            comment  label  \\\n",
              "0        NaN    واقعا حیف وقت که بنویسم سرویس دهیتون شده افتضاح    SAD   \n",
              "1        NaN  قرار بود ۱ ساعته برسه ولی نیم ساعت زودتر از مو...  HAPPY   \n",
              "2        NaN  قیمت این مدل اصلا با کیفیتش سازگاری نداره، فقط...    SAD   \n",
              "3        NaN  عالللی بود همه چه درست و به اندازه و کیفیت خوب...  HAPPY   \n",
              "4        NaN                      شیرینی وانیلی فقط یک مدل بود.  HAPPY   \n",
              "\n",
              "   label_id  \n",
              "0       1.0  \n",
              "1       0.0  \n",
              "2       1.0  \n",
              "3       0.0  \n",
              "4       0.0  "
            ],
            "text/html": [
              "\n",
              "  <div id=\"df-4a06be51-7489-454b-b744-21c3f4913634\">\n",
              "    <div class=\"colab-df-container\">\n",
              "      <div>\n",
              "<style scoped>\n",
              "    .dataframe tbody tr th:only-of-type {\n",
              "        vertical-align: middle;\n",
              "    }\n",
              "\n",
              "    .dataframe tbody tr th {\n",
              "        vertical-align: top;\n",
              "    }\n",
              "\n",
              "    .dataframe thead th {\n",
              "        text-align: right;\n",
              "    }\n",
              "</style>\n",
              "<table border=\"1\" class=\"dataframe\">\n",
              "  <thead>\n",
              "    <tr style=\"text-align: right;\">\n",
              "      <th></th>\n",
              "      <th>Unnamed: 0</th>\n",
              "      <th>comment</th>\n",
              "      <th>label</th>\n",
              "      <th>label_id</th>\n",
              "    </tr>\n",
              "  </thead>\n",
              "  <tbody>\n",
              "    <tr>\n",
              "      <th>0</th>\n",
              "      <td>NaN</td>\n",
              "      <td>واقعا حیف وقت که بنویسم سرویس دهیتون شده افتضاح</td>\n",
              "      <td>SAD</td>\n",
              "      <td>1.0</td>\n",
              "    </tr>\n",
              "    <tr>\n",
              "      <th>1</th>\n",
              "      <td>NaN</td>\n",
              "      <td>قرار بود ۱ ساعته برسه ولی نیم ساعت زودتر از مو...</td>\n",
              "      <td>HAPPY</td>\n",
              "      <td>0.0</td>\n",
              "    </tr>\n",
              "    <tr>\n",
              "      <th>2</th>\n",
              "      <td>NaN</td>\n",
              "      <td>قیمت این مدل اصلا با کیفیتش سازگاری نداره، فقط...</td>\n",
              "      <td>SAD</td>\n",
              "      <td>1.0</td>\n",
              "    </tr>\n",
              "    <tr>\n",
              "      <th>3</th>\n",
              "      <td>NaN</td>\n",
              "      <td>عالللی بود همه چه درست و به اندازه و کیفیت خوب...</td>\n",
              "      <td>HAPPY</td>\n",
              "      <td>0.0</td>\n",
              "    </tr>\n",
              "    <tr>\n",
              "      <th>4</th>\n",
              "      <td>NaN</td>\n",
              "      <td>شیرینی وانیلی فقط یک مدل بود.</td>\n",
              "      <td>HAPPY</td>\n",
              "      <td>0.0</td>\n",
              "    </tr>\n",
              "  </tbody>\n",
              "</table>\n",
              "</div>\n",
              "      <button class=\"colab-df-convert\" onclick=\"convertToInteractive('df-4a06be51-7489-454b-b744-21c3f4913634')\"\n",
              "              title=\"Convert this dataframe to an interactive table.\"\n",
              "              style=\"display:none;\">\n",
              "        \n",
              "  <svg xmlns=\"http://www.w3.org/2000/svg\" height=\"24px\"viewBox=\"0 0 24 24\"\n",
              "       width=\"24px\">\n",
              "    <path d=\"M0 0h24v24H0V0z\" fill=\"none\"/>\n",
              "    <path d=\"M18.56 5.44l.94 2.06.94-2.06 2.06-.94-2.06-.94-.94-2.06-.94 2.06-2.06.94zm-11 1L8.5 8.5l.94-2.06 2.06-.94-2.06-.94L8.5 2.5l-.94 2.06-2.06.94zm10 10l.94 2.06.94-2.06 2.06-.94-2.06-.94-.94-2.06-.94 2.06-2.06.94z\"/><path d=\"M17.41 7.96l-1.37-1.37c-.4-.4-.92-.59-1.43-.59-.52 0-1.04.2-1.43.59L10.3 9.45l-7.72 7.72c-.78.78-.78 2.05 0 2.83L4 21.41c.39.39.9.59 1.41.59.51 0 1.02-.2 1.41-.59l7.78-7.78 2.81-2.81c.8-.78.8-2.07 0-2.86zM5.41 20L4 18.59l7.72-7.72 1.47 1.35L5.41 20z\"/>\n",
              "  </svg>\n",
              "      </button>\n",
              "      \n",
              "  <style>\n",
              "    .colab-df-container {\n",
              "      display:flex;\n",
              "      flex-wrap:wrap;\n",
              "      gap: 12px;\n",
              "    }\n",
              "\n",
              "    .colab-df-convert {\n",
              "      background-color: #E8F0FE;\n",
              "      border: none;\n",
              "      border-radius: 50%;\n",
              "      cursor: pointer;\n",
              "      display: none;\n",
              "      fill: #1967D2;\n",
              "      height: 32px;\n",
              "      padding: 0 0 0 0;\n",
              "      width: 32px;\n",
              "    }\n",
              "\n",
              "    .colab-df-convert:hover {\n",
              "      background-color: #E2EBFA;\n",
              "      box-shadow: 0px 1px 2px rgba(60, 64, 67, 0.3), 0px 1px 3px 1px rgba(60, 64, 67, 0.15);\n",
              "      fill: #174EA6;\n",
              "    }\n",
              "\n",
              "    [theme=dark] .colab-df-convert {\n",
              "      background-color: #3B4455;\n",
              "      fill: #D2E3FC;\n",
              "    }\n",
              "\n",
              "    [theme=dark] .colab-df-convert:hover {\n",
              "      background-color: #434B5C;\n",
              "      box-shadow: 0px 1px 3px 1px rgba(0, 0, 0, 0.15);\n",
              "      filter: drop-shadow(0px 1px 2px rgba(0, 0, 0, 0.3));\n",
              "      fill: #FFFFFF;\n",
              "    }\n",
              "  </style>\n",
              "\n",
              "      <script>\n",
              "        const buttonEl =\n",
              "          document.querySelector('#df-4a06be51-7489-454b-b744-21c3f4913634 button.colab-df-convert');\n",
              "        buttonEl.style.display =\n",
              "          google.colab.kernel.accessAllowed ? 'block' : 'none';\n",
              "\n",
              "        async function convertToInteractive(key) {\n",
              "          const element = document.querySelector('#df-4a06be51-7489-454b-b744-21c3f4913634');\n",
              "          const dataTable =\n",
              "            await google.colab.kernel.invokeFunction('convertToInteractive',\n",
              "                                                     [key], {});\n",
              "          if (!dataTable) return;\n",
              "\n",
              "          const docLinkHtml = 'Like what you see? Visit the ' +\n",
              "            '<a target=\"_blank\" href=https://colab.research.google.com/notebooks/data_table.ipynb>data table notebook</a>'\n",
              "            + ' to learn more about interactive tables.';\n",
              "          element.innerHTML = '';\n",
              "          dataTable['output_type'] = 'display_data';\n",
              "          await google.colab.output.renderOutput(dataTable, element);\n",
              "          const docLink = document.createElement('div');\n",
              "          docLink.innerHTML = docLinkHtml;\n",
              "          element.appendChild(docLink);\n",
              "        }\n",
              "      </script>\n",
              "    </div>\n",
              "  </div>\n",
              "  "
            ]
          },
          "metadata": {},
          "execution_count": 3
        }
      ]
    },
    {
      "cell_type": "markdown",
      "source": [
        "Preparing the dataset"
      ],
      "metadata": {
        "id": "0ytX1RYacmeB"
      }
    },
    {
      "cell_type": "code",
      "source": [
        "df.drop(df[df['label'] == \"1\"].index, inplace=True)\n",
        "df.drop(df[df['label'] == \"0\"].index, inplace=True)\n",
        "X=df['comment'].values\n",
        "y=df['label'].values\n",
        "X_train, X_test, y_train, y_test = train_test_split(X, y, test_size=0.8, random_state=42)\n",
        "X_train, X_test, y_train, y_test = train_test_split(X_train, y_train, test_size=0.1, random_state=42)"
      ],
      "metadata": {
        "id": "WQcaSz3vyhN0"
      },
      "execution_count": 4,
      "outputs": []
    },
    {
      "cell_type": "markdown",
      "source": [
        "Implementing the IFIDF vectorizer"
      ],
      "metadata": {
        "id": "NhX69xnZcrER"
      }
    },
    {
      "cell_type": "code",
      "source": [
        "class TfIdfVectorizer:\n",
        "    def __init__(self):\n",
        "        self.vocab = None\n",
        "        self.doc_freqs = None\n",
        "    \n",
        "    def fit(self, documents):\n",
        "        self.vocab = set()\n",
        "        self.doc_freqs = Counter()\n",
        "        for doc in documents:\n",
        "            tokens = word_tokenize(doc)\n",
        "            normal_tokens = list()\n",
        "            for token in tokens:\n",
        "              normal_tokens.append(lemmatizer.lemmatize(stemr.stem(token)))\n",
        "            self.vocab.update(normal_tokens)\n",
        "            self.doc_freqs.update(set(normal_tokens))\n",
        "        print(len(self.vocab))\n",
        "    \n",
        "    def transform(self, documents):\n",
        "        tf_vectors = []\n",
        "        for doc in documents:\n",
        "            doc = word_tokenize(doc)\n",
        "            tf = Counter(doc)\n",
        "            tf_vector = [tf[word] for word in self.vocab]\n",
        "            tf_vector = [freq / max(tf.values()) for freq in tf_vector] # normalize\n",
        "            idf_vector = [math.log(len(documents) / self.doc_freqs[word]) for word in self.vocab]\n",
        "            tf_idf_vector = [tf_vector[i] * idf_vector[i] for i in range(len(self.vocab))]\n",
        "            tf_vectors.append(tf_idf_vector)\n",
        "        return tf_vectors\n"
      ],
      "metadata": {
        "id": "Rjkiz_HFspsh"
      },
      "execution_count": 5,
      "outputs": []
    },
    {
      "cell_type": "markdown",
      "source": [
        "Making labels from y_train"
      ],
      "metadata": {
        "id": "eGNqzNELc5c3"
      }
    },
    {
      "cell_type": "code",
      "source": [
        "np.unique(y_train)"
      ],
      "metadata": {
        "colab": {
          "base_uri": "https://localhost:8080/"
        },
        "id": "IMlI8-k7zlHY",
        "outputId": "79481966-b9a4-4534-e799-047c736c9786"
      },
      "execution_count": 6,
      "outputs": [
        {
          "output_type": "execute_result",
          "data": {
            "text/plain": [
              "array(['HAPPY', 'SAD'], dtype=object)"
            ]
          },
          "metadata": {},
          "execution_count": 6
        }
      ]
    },
    {
      "cell_type": "markdown",
      "source": [
        "Getting TFIDF vectors"
      ],
      "metadata": {
        "id": "7oRTpSxeeG72"
      }
    },
    {
      "cell_type": "code",
      "source": [
        "tfidf = TfIdfVectorizer()\n",
        "tfidf.fit(X_train)\n",
        "tfidf_vectors_train = tfidf.transform(X_train)\n",
        "tfidf_vectors_test = tfidf.transform(X_test)"
      ],
      "metadata": {
        "id": "Cir8S8cGssNE",
        "colab": {
          "base_uri": "https://localhost:8080/"
        },
        "outputId": "c4b3593f-4723-4e46-9309-91d3bb31c2d7"
      },
      "execution_count": 7,
      "outputs": [
        {
          "output_type": "stream",
          "name": "stdout",
          "text": [
            "9869\n"
          ]
        }
      ]
    },
    {
      "cell_type": "markdown",
      "source": [
        "Predicting labels of test data using TFIDF vectors"
      ],
      "metadata": {
        "id": "D0aCAWpseN_a"
      }
    },
    {
      "cell_type": "code",
      "source": [
        "from sklearn.naive_bayes import GaussianNB\n",
        "from sklearn.metrics import classification_report\n",
        "clf_pf = GaussianNB()\n",
        "clf_pf.partial_fit(tfidf_vectors_train, y_train, classes=np.unique(y_train))\n",
        "y_pred = clf_pf.predict(tfidf_vectors_test)\n",
        "print(classification_report(y_test, y_pred))"
      ],
      "metadata": {
        "colab": {
          "base_uri": "https://localhost:8080/"
        },
        "id": "53rq0LL9xVsN",
        "outputId": "2d35d8c8-cc9f-49a4-c892-adf6b4663bf8"
      },
      "execution_count": 8,
      "outputs": [
        {
          "output_type": "stream",
          "name": "stdout",
          "text": [
            "              precision    recall  f1-score   support\n",
            "\n",
            "       HAPPY       0.51      0.88      0.64       650\n",
            "         SAD       0.70      0.24      0.36       740\n",
            "\n",
            "    accuracy                           0.54      1390\n",
            "   macro avg       0.60      0.56      0.50      1390\n",
            "weighted avg       0.61      0.54      0.49      1390\n",
            "\n"
          ]
        }
      ]
    },
    {
      "cell_type": "markdown",
      "source": [
        "Implementing the PPMI vectorizer"
      ],
      "metadata": {
        "id": "GZHIDy5Deg4C"
      }
    },
    {
      "cell_type": "code",
      "source": [
        "class PPMIVectorizer():\n",
        "\n",
        "  def __init__(self):\n",
        "      self.vocab = None\n",
        "      self.doc_freqs = None\n",
        "      self.word_in_doc_list = dict()\n",
        "      self.word_count = dict()\n",
        "      self.tokenized_sentences = list()\n",
        "  \n",
        "  def fit(self, documents):\n",
        "      self.vocab = set()\n",
        "      self.doc_freqs = Counter()\n",
        "      self.word_index_dict = dict()\n",
        "      self.vocab_list = list()\n",
        "      for doc in documents:\n",
        "          tokens = word_tokenize(doc)\n",
        "          normal_tokens = list()\n",
        "          for token in tokens:\n",
        "            normal_tokens.append(lemmatizer.lemmatize(stemr.stem(token)))\n",
        "          self.vocab.update(normal_tokens)\n",
        "          self.doc_freqs.update(set(normal_tokens))\n",
        "          self.tokenized_sentences.append(normal_tokens)\n",
        "\n",
        "      self.vocab_list = list(self.vocab)\n",
        "      for word_index in range(len(self.vocab)):\n",
        "        self.word_index_dict[self.vocab_list[word_index]] = word_index\n",
        "      self._cal_ppmi(documents)\n",
        "\n",
        "\n",
        "  def _cal_ppmi(self, documents):\n",
        "      ppmi_matrix = np.zeros((len(self.vocab), len(self.vocab)))\n",
        "      token_count = 0\n",
        "      for sentence in self.tokenized_sentences:\n",
        "        for token_index in range(len(sentence)):\n",
        "            real_token = sentence[token_index]\n",
        "            ppmi_token_index = self.word_index_dict[real_token]\n",
        "            for neighbor_token_index in range(len(sentence)):\n",
        "              neighbor_token = sentence[neighbor_token_index]\n",
        "              ppmi_neighbor_token_index = self.word_index_dict[neighbor_token]\n",
        "              ppmi_matrix[ppmi_token_index][ppmi_neighbor_token_index] += 1\n",
        "              ppmi_matrix[ppmi_neighbor_token_index][ppmi_token_index] += 1\n",
        "\n",
        "      PMI = ppmi_matrix.sum(axis=0).sum() * ppmi_matrix /  np.outer((ppmi_matrix.sum(axis=1)), (ppmi_matrix.sum(axis=0)))\n",
        "      for row in PMI:\n",
        "        for element_index in range(len(row)):\n",
        "          if row[element_index] > 1:\n",
        "            row[element_index] = math.log(row[element_index])\n",
        "          else:\n",
        "            row[element_index] = 0\n",
        "      self.PPMI = PMI\n",
        "  \n",
        "  \n",
        "  def transform(self, documents):\n",
        "      ppmi = []\n",
        "      for doc in documents:\n",
        "        doc = word_tokenize(doc)\n",
        "        token_ppmi = np.zeros(len(self.vocab))\n",
        "        count = 0\n",
        "        for token in doc:\n",
        "          token = lemmatizer.lemmatize(stemr.stem(token))\n",
        "          if token in self.word_index_dict:\n",
        "            ppmi_token_index = self.word_index_dict[token]\n",
        "            count += 1\n",
        "            token_ppmi += self.PPMI[ppmi_token_index]\n",
        "        if(count != 0):\n",
        "          ppmi.append(token_ppmi/count)\n",
        "        else:\n",
        "          ppmi.append(token_ppmi)\n",
        "      return ppmi\n",
        "        \n"
      ],
      "metadata": {
        "id": "334PpoaxpqLE"
      },
      "execution_count": 52,
      "outputs": []
    },
    {
      "cell_type": "code",
      "source": [
        "ppmi = PPMIVectorizer()\n",
        "ppmi.fit(X_train)\n",
        "ppmi_vectors_train = ppmi.transform(X_train)\n",
        "ppmi_vectors_test = ppmi.transform(X_test)\n",
        "clf_pf = GaussianNB()\n",
        "clf_pf.partial_fit(ppmi_vectors_train, y_train, classes=np.unique(y_train))\n",
        "y_pred = clf_pf.predict(ppmi_vectors_test)\n",
        "print(classification_report(y_test, y_pred))"
      ],
      "metadata": {
        "id": "-gFsQFrRr9k3",
        "outputId": "590a5981-cb97-47c7-fc14-0e3bef47b5fe",
        "colab": {
          "base_uri": "https://localhost:8080/"
        }
      },
      "execution_count": 53,
      "outputs": [
        {
          "output_type": "stream",
          "name": "stdout",
          "text": [
            "              precision    recall  f1-score   support\n",
            "\n",
            "       HAPPY       0.86      0.69      0.77       650\n",
            "         SAD       0.77      0.90      0.83       740\n",
            "\n",
            "    accuracy                           0.81      1390\n",
            "   macro avg       0.82      0.80      0.80      1390\n",
            "weighted avg       0.81      0.81      0.80      1390\n",
            "\n"
          ]
        }
      ]
    }
  ]
}